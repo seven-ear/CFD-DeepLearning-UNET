{
 "cells": [
  {
   "cell_type": "code",
   "execution_count": 4,
   "metadata": {},
   "outputs": [],
   "source": [
    "import numpy as np\n",
    "import os"
   ]
  },
  {
   "cell_type": "code",
   "execution_count": 5,
   "metadata": {},
   "outputs": [
    {
     "name": "stdout",
     "output_type": "stream",
     "text": [
      "/home/imagda/_projects_2020/datasets/cfd/train /home/imagda/_projects_2020/datasets/cfd/val /home/imagda/_projects_2020/datasets/cfd/test\n"
     ]
    }
   ],
   "source": [
    "# ORIGINAL DIRECTORY --> \n",
    "GOOGLE_DRIVE = False\n",
    "RESTART_MODEL = False\n",
    "filename = \"data.tfrecords\"\n",
    "if (GOOGLE_DRIVE == True):\n",
    "    ORIG_INPUT_DATASET = \"/content/drive/My Drive/datasets/cfd_hennigh\"\n",
    "# BASE DIRECTORY --> were modified data will be saved\n",
    "    BASE_INPUT_DATASET = \"/content/drive/My Drive/datasets/cfd_hennigh\"    \n",
    "else:\n",
    "    ORIG_INPUT_DATASET = \"/home/imagda/_projects_2020/datasets/cfd\"\n",
    "# BASE DIRECTORY --> were modified data will be saved\n",
    "    BASE_INPUT_DATASET = \"/home/imagda/_projects_2020/datasets/cfd\"\n",
    "    \n",
    "TRAIN_PATH = os.path.sep.join([BASE_INPUT_DATASET, \"train\"])\n",
    "VAL_PATH = os.path.sep.join([BASE_INPUT_DATASET , \"val\"])\n",
    "TEST_PATH = os.path.sep.join([BASE_INPUT_DATASET , \"test\"])\n",
    "\n",
    "print(TRAIN_PATH, VAL_PATH, TEST_PATH)\n",
    "TRAIN_SPLIT = 0.8\n",
    "VAL_SPLIT = 0.1\n",
    "\n",
    "BATCH_SIZE = 12"
   ]
  },
  {
   "cell_type": "code",
   "execution_count": 6,
   "metadata": {},
   "outputs": [
    {
     "name": "stdout",
     "output_type": "stream",
     "text": [
      "[NbConvertApp] Converting notebook config.ipynb to script\n",
      "[NbConvertApp] Writing 986 bytes to config.py\n"
     ]
    }
   ],
   "source": [
    "!jupyter nbconvert --to script config.ipynb"
   ]
  },
  {
   "cell_type": "code",
   "execution_count": null,
   "metadata": {},
   "outputs": [],
   "source": []
  }
 ],
 "metadata": {
  "kernelspec": {
   "display_name": "Python 3",
   "language": "python",
   "name": "python3"
  },
  "language_info": {
   "codemirror_mode": {
    "name": "ipython",
    "version": 3
   },
   "file_extension": ".py",
   "mimetype": "text/x-python",
   "name": "python",
   "nbconvert_exporter": "python",
   "pygments_lexer": "ipython3",
   "version": "3.7.9"
  }
 },
 "nbformat": 4,
 "nbformat_minor": 4
}
