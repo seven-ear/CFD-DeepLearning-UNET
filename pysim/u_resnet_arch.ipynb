{
 "cells": [
  {
   "cell_type": "code",
   "execution_count": 1,
   "metadata": {},
   "outputs": [],
   "source": [
    "import tensorflow as tf"
   ]
  },
  {
   "cell_type": "code",
   "execution_count": 8,
   "metadata": {},
   "outputs": [],
   "source": [
    "def bn_act(x, act=True):\n",
    "    x = tf.keras.layers.BatchNormalization()(x)\n",
    "    if act == True:\n",
    "        x = tf.keras.layers.Activation(\"relu\")(x)\n",
    "    return x\n",
    "\n",
    "def conv_block(x, filters, kernel_size=(3, 3), padding=\"same\", strides=1):\n",
    "    conv = bn_act(x)\n",
    "    conv = tf.keras.layers.Conv2D(filters, kernel_size, padding=padding, strides=strides)(conv)\n",
    "    return conv\n",
    "\n",
    "def stem(x, filters, kernel_size=(3, 3), padding=\"same\", strides=1):\n",
    "    conv = tf.keras.layers.Conv2D(filters, kernel_size, padding=padding, strides=strides)(x)\n",
    "    conv = conv_block(conv, filters, kernel_size=kernel_size, padding=padding, strides=strides)\n",
    "    \n",
    "    shortcut = tf.keras.layers.Conv2D(filters, kernel_size=(1, 1), padding=padding, strides=strides)(x)\n",
    "    shortcut = bn_act(shortcut, act=False)\n",
    "    \n",
    "    output = tf.keras.layers.Add()([conv, shortcut])\n",
    "    return output\n",
    "\n",
    "def residual_block(x, filters, kernel_size=(3, 3), padding=\"same\", strides=1):\n",
    "    res = conv_block(x, filters, kernel_size=kernel_size, padding=padding, strides=strides)\n",
    "    res = conv_block(res, filters, kernel_size=kernel_size, padding=padding, strides=1)\n",
    "    \n",
    "    shortcut = tf.keras.layers.Conv2D(filters, kernel_size=(1, 1), padding=padding, strides=strides)(x)\n",
    "    shortcut = bn_act(shortcut, act=False)\n",
    "    \n",
    "    output = tf.keras.layers.Add()([shortcut, res])\n",
    "    return output\n",
    "\n",
    "def upsample_concat_block(x, xskip):\n",
    "    u = tf.keras.layers.UpSampling2D((2, 2))(x)\n",
    "    c = tf.keras.layers.Concatenate()([u, xskip])\n",
    "    return c\n",
    "\n",
    "\n",
    "f = [0, 8, 16, 32, 64, 128, 256, 512]\n",
    "inputs = tf.keras.layers.Input((128, 256, 1))\n",
    "    \n",
    "    ## Encoder\n",
    "e0 = inputs\n",
    "inputs_reshape = tf.keras.layers.Lambda(lambda x : x[:, :, :, 0:1])(inputs)\n",
    "e0 = tf.keras.layers.Lambda(lambda x: tf.where(x == 0, tf.ones_like(x),\\\n",
    "                                                tf.zeros_like(x)), name = \"inputs_inverse\")(inputs_reshape)   \n",
    "    #e1 = stem(e0, f[0])\n",
    "e1 = residual_block(e0, f[1], strides=2)\n",
    "e2 = residual_block(e1, f[2], strides=2)\n",
    "e3 = residual_block(e2, f[3], strides=2)\n",
    "e4 = residual_block(e3, f[4], strides=2)\n",
    "e5 = residual_block(e4, f[5], strides=2)  \n",
    "e6 = residual_block(e5, f[6], strides=2) #2,4,256\n",
    "e7 = residual_block(e6, f[7], strides=2) #1,2,512\n",
    "    ## Bridge\n",
    "b0 = conv_block(e7, f[7], strides=1)#1,2,512\n",
    "    #b1 = conv_block(b0, f[7], strides=1)#1,1,512\n",
    "    #b0 = residual_block(e7, f[7], strides=1)\n",
    "    #b1 =  residual_block(b0, f[7], strides=1)\n",
    "    #b1= keras.layers.UpSampling2D((2, 2))(b0)\n",
    "    ## Decoder\n",
    "u1 =  tf.keras.layers.UpSampling2D((1, 1))(b0)\n",
    "u11 = tf.keras.layers.Concatenate()([u1, e7])\n",
    "    #u1 = upsample_concat_block(b0, e7)\n",
    "d1 = residual_block(u11, f[7])\n",
    "    \n",
    "u2 = upsample_concat_block(d1, e6)\n",
    "d2 = residual_block(u2, f[6])\n",
    "    \n",
    "u3 = upsample_concat_block(d2, e5)\n",
    "d3 = residual_block(u3, f[5])\n",
    "    \n",
    "u4 = upsample_concat_block(d3, e4)\n",
    "d4 = residual_block(u4, f[4])\n",
    "\n",
    "u5 = upsample_concat_block(d4, e3)\n",
    "d5 = residual_block(u5, f[3])\n",
    "\n",
    "u6 = upsample_concat_block(d5, e2)\n",
    "d6 = residual_block(u6, f[2])\n",
    "\n",
    "u7 = upsample_concat_block(d6, e1)\n",
    "d7 = residual_block(u7, f[1], strides = 1)\n",
    "\n",
    "u8 = upsample_concat_block(d7, e0)\n",
    "d8 = residual_block(u8, 2, strides = 1)\n",
    "x = tf.keras.layers.Conv2D(2, (1, 1), padding=\"same\", activation=\"tanh\")(d8)\n",
    "\n",
    "    #inputs_reshape = keras.layers.Lambda(lambda x : x[:, :, :, 0:1])(inputs)\n",
    "    #inputs_inverse = keras.layers.Lambda(lambda x: tf.where(x == 0, tf.ones_like(x),\\\n",
    "    #                                            tf.zeros_like(x)), name = \"inputs_inverse\")(inputs_reshape)                                                \n",
    "outputs = tf.keras.layers.multiply([x, e0])\n",
    "model = tf.keras.models.Model(inputs, outputs)"
   ]
  },
  {
   "cell_type": "code",
   "execution_count": 7,
   "metadata": {},
   "outputs": [
    {
     "name": "stdout",
     "output_type": "stream",
     "text": [
      "[NbConvertApp] Converting notebook u_resnet_arch.ipynb to script\n",
      "[NbConvertApp] Writing 3787 bytes to u_resnet_arch.py\n"
     ]
    }
   ],
   "source": [
    "!jupyter nbconvert --to script u_resnet_arch.ipynb"
   ]
  },
  {
   "cell_type": "code",
   "execution_count": null,
   "metadata": {},
   "outputs": [],
   "source": []
  }
 ],
 "metadata": {
  "kernelspec": {
   "display_name": "Python 3",
   "language": "python",
   "name": "python3"
  },
  "language_info": {
   "codemirror_mode": {
    "name": "ipython",
    "version": 3
   },
   "file_extension": ".py",
   "mimetype": "text/x-python",
   "name": "python",
   "nbconvert_exporter": "python",
   "pygments_lexer": "ipython3",
   "version": "3.7.9"
  }
 },
 "nbformat": 4,
 "nbformat_minor": 4
}
